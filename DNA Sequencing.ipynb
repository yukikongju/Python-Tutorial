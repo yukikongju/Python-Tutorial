{
 "cells": [
  {
   "cell_type": "markdown",
   "metadata": {},
   "source": [
    "### Complementary Sequencing"
   ]
  },
  {
   "cell_type": "code",
   "execution_count": 57,
   "metadata": {},
   "outputs": [],
   "source": [
    "complement_dic = {\n",
    "    'a': 't',\n",
    "    't': 'a',\n",
    "    'c': 'g',\n",
    "    'g': 'c'       \n",
    "}"
   ]
  },
  {
   "cell_type": "code",
   "execution_count": 118,
   "metadata": {},
   "outputs": [],
   "source": [
    "def getComplementarySeq(sequence):   \n",
    "    global complement_dic\n",
    "    complement_seq = \"\"\n",
    "    for i in sequence:\n",
    "        complement = complement_dic.get(i)\n",
    "        complement_seq += complement\n",
    "    return complement_seq"
   ]
  },
  {
   "cell_type": "code",
   "execution_count": 119,
   "metadata": {},
   "outputs": [
    {
     "name": "stdout",
     "output_type": "stream",
     "text": [
      "tcccagttaacgcgcgcat\n"
     ]
    }
   ],
   "source": [
    "DNA = \"agggtcaattgcgcgcgta\"\n",
    "complement_seq = getComplementarySeq(DNA)\n",
    "print(complement_seq)"
   ]
  },
  {
   "cell_type": "markdown",
   "metadata": {},
   "source": [
    "### Amino Acids Letter to Symbols"
   ]
  },
  {
   "cell_type": "code",
   "execution_count": 98,
   "metadata": {},
   "outputs": [],
   "source": [
    "aa_letter_to_code = {\n",
    "    'A': 'ala',\n",
    "    'R': 'arg',\n",
    "    'N': 'asn',\n",
    "    'D': 'asp',\n",
    "    'B': 'asx',\n",
    "    'C': 'cys',\n",
    "    'E': 'glu',\n",
    "    'Q': 'gln',\n",
    "    'Z': 'glx',\n",
    "    'G': 'gly',\n",
    "    'H': 'his',\n",
    "    'I': 'ile',\n",
    "    'L': 'leu',\n",
    "    'K': 'lys',\n",
    "    'M': 'met',\n",
    "    'F': 'phe',\n",
    "    'P': 'pro',\n",
    "    'S': 'ser',\n",
    "    'T': 'thr',\n",
    "    'W': 'trp',\n",
    "    'Y': 'tyr',\n",
    "    'V': 'val'\n",
    "}"
   ]
  },
  {
   "cell_type": "code",
   "execution_count": 135,
   "metadata": {},
   "outputs": [],
   "source": [
    "def getCodeTranslation(translation):\n",
    "    code_seq = []\n",
    "    for i in translation:\n",
    "        code = aa_letter_to_code.get(i)\n",
    "        code_seq.append(code)\n",
    "    return '-'.join(code_seq)"
   ]
  },
  {
   "cell_type": "code",
   "execution_count": 136,
   "metadata": {},
   "outputs": [
    {
     "data": {
      "text/plain": [
       "'met-glu-ser-leu-val-pro-gly-phe-asn-glu-lys-thr-his-val-gln-leu-ser-leu-pro-val-leu-gln-val-arg-asp-val-leu-val-arg-gly-phe-gly-asp-ser-val-glu-glu-val-leu-ser-glu-ala-arg-gln'"
      ]
     },
     "execution_count": 136,
     "metadata": {},
     "output_type": "execute_result"
    }
   ],
   "source": [
    "corona_trans = \"MESLVPGFNEKTHVQLSLPVLQVRDVLVRGFGDSVEEVLSEARQ\"\n",
    "traduction = getCodeTranslation(corona_trans)\n",
    "traduction"
   ]
  },
  {
   "cell_type": "markdown",
   "metadata": {},
   "source": [
    "### Count amino acids\n"
   ]
  },
  {
   "cell_type": "code",
   "execution_count": 149,
   "metadata": {},
   "outputs": [],
   "source": [
    "from collections import Counter\n",
    "\n",
    "def getCodeCount(translation):\n",
    "    code_seq = []\n",
    "    for i in translation:\n",
    "        code = aa_letter_to_code.get(i)\n",
    "        code_seq.append(code)\n",
    "    return Counter(code_seq)"
   ]
  },
  {
   "cell_type": "code",
   "execution_count": 150,
   "metadata": {},
   "outputs": [
    {
     "data": {
      "text/plain": [
       "Counter({'met': 1,\n",
       "         'glu': 5,\n",
       "         'ser': 4,\n",
       "         'leu': 6,\n",
       "         'val': 8,\n",
       "         'pro': 2,\n",
       "         'gly': 3,\n",
       "         'phe': 2,\n",
       "         'asn': 1,\n",
       "         'lys': 1,\n",
       "         'thr': 1,\n",
       "         'his': 1,\n",
       "         'gln': 3,\n",
       "         'arg': 3,\n",
       "         'asp': 2,\n",
       "         'ala': 1})"
      ]
     },
     "execution_count": 150,
     "metadata": {},
     "output_type": "execute_result"
    }
   ],
   "source": [
    "count_codes = getCodeCount(corona_trans)\n",
    "count_codes"
   ]
  },
  {
   "cell_type": "markdown",
   "metadata": {},
   "source": [
    "### Hamming Distance\n"
   ]
  },
  {
   "cell_type": "code",
   "execution_count": 153,
   "metadata": {},
   "outputs": [],
   "source": [
    "def getHammingDistance(seq_1, seq_2):\n",
    "    count = abs(len(seq_1) - len(seq_2))\n",
    "    \n",
    "    length = 0\n",
    "    if (len(seq_1) < len(seq_2)):\n",
    "        length = len(seq_1)\n",
    "    else:\n",
    "        length = len(seq_2)\n",
    "        \n",
    "    for i in range(length):\n",
    "        if (seq_1[i] != seq_2[i]):\n",
    "            count+=1\n",
    "    \n",
    "    return count\n",
    "    "
   ]
  },
  {
   "cell_type": "code",
   "execution_count": 155,
   "metadata": {},
   "outputs": [
    {
     "name": "stdout",
     "output_type": "stream",
     "text": [
      "3\n"
     ]
    }
   ],
   "source": [
    "seq_1 = \"agtacggatc\"\n",
    "seq_2 = \"agtagctatc\"\n",
    "\n",
    "hamming_dist = getHammingDistance(seq_1, seq_2)\n",
    "print(hamming_dist)"
   ]
  },
  {
   "cell_type": "markdown",
   "metadata": {},
   "source": [
    "### Create DNA Sequence class"
   ]
  },
  {
   "cell_type": "code",
   "execution_count": 156,
   "metadata": {},
   "outputs": [],
   "source": [
    "### getComplement\n",
    "### getAminoAcid\n",
    "### getPeptideSequence\n",
    "### GetProteinFold"
   ]
  }
 ],
 "metadata": {
  "kernelspec": {
   "display_name": "Python 3",
   "language": "python",
   "name": "python3"
  },
  "language_info": {
   "codemirror_mode": {
    "name": "ipython",
    "version": 3
   },
   "file_extension": ".py",
   "mimetype": "text/x-python",
   "name": "python",
   "nbconvert_exporter": "python",
   "pygments_lexer": "ipython3",
   "version": "3.7.7"
  }
 },
 "nbformat": 4,
 "nbformat_minor": 4
}
